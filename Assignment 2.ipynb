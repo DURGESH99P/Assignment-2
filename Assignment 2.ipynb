{
 "cells": [
  {
   "cell_type": "markdown",
   "id": "40888346",
   "metadata": {},
   "source": [
    "# Assignment 2"
   ]
  },
  {
   "cell_type": "markdown",
   "id": "cfdc67b5",
   "metadata": {},
   "source": [
    "### 1.What are the two values of the Boolean data type? How do you write them?\n",
    "1. two types of value are **True** and **False** ."
   ]
  },
  {
   "cell_type": "markdown",
   "id": "6c700c0f",
   "metadata": {},
   "source": [
    "### 2. What are the three different types of Boolean operators?\n",
    "1. The three basic boolean operators are: **AND**, **OR**, and **NOT**."
   ]
  },
  {
   "cell_type": "markdown",
   "id": "395f989f",
   "metadata": {},
   "source": [
    "### 3. Make a list of each Boolean operator's truth tables (i.e. every possible combination of Boolean values for the operator and what it evaluate ).\n",
    "1. AND & OR \n",
    "\n",
    "\n",
    "|   A    |   B   | A **AND** B |A **OR** B|\n",
    "| :---   |:----: |    :---:    |  -----:  |                     \n",
    "| True   | True  |    True     |  True    | \n",
    "| True   | False |    False    |  True    |   \n",
    "| False  | True  |    False    |  True    |\n",
    "| False  | False |    False    |  False   |\n",
    "\n",
    "2. NOT\n",
    "\n",
    "|   A    | **NOT**  A |\n",
    "| :----- | -------:   |\n",
    "| True   |   False    |\n",
    "| False  |   True     |"
   ]
  },
  {
   "cell_type": "markdown",
   "id": "d0c118ff",
   "metadata": {},
   "source": [
    "### 4. What are the values of the following expressions?\n",
    "1. value of (5 > 4) and (3 == 5) is **False**\n",
    "2. value of not(5 > 4) is **False**\n",
    "3. value of (5 > 4) or (3 == 5) is **True**\n",
    "4. value of not((5 > 4) or (3 == 5)) is **False**\n",
    "5. value of (True and True) and (True == False) is **False**\n",
    "6. value of (not False) or (not True) is **True**"
   ]
  },
  {
   "cell_type": "markdown",
   "id": "9f3b31e3",
   "metadata": {},
   "source": [
    "###  5. What are the six comparison operators?\n",
    "\n",
    "|Comparison operator|    Description          |\n",
    "|      :-------     |    ----------:          |\n",
    "|    ==             | is equal to             |\n",
    "|    !=             | not equal to            |\n",
    "|    >              | Greater than            |\n",
    "|    <              | Less than               |\n",
    "|    >=             |Greater than or equal to |\n",
    "|    <=             |less than or equal to    |"
   ]
  },
  {
   "cell_type": "markdown",
   "id": "2a6c3b0c",
   "metadata": {},
   "source": [
    "### 6. How do you tell the difference between the equal to and assignment operators?Describe a condition and when you would use one.\n",
    "1. \"=\" is an assignment operator.\n",
    "2. \"==\" is an equal to comparison operator.\n",
    "3. a = 10,b = 20, c = \"string\", here assignment operator is used to assign values to variable.\n",
    "4. 5==5 , comparison operator is used to check whether the two given operands are equal or not.If so ,it returns true.otherwise false"
   ]
  },
  {
   "cell_type": "markdown",
   "id": "0b852118",
   "metadata": {},
   "source": [
    "### 7. Identify the three blocks in this code:\n",
    "* The three blocks are everything inside the if statement and the lines print('bacon') and print('ham')."
   ]
  },
  {
   "cell_type": "code",
   "execution_count": 1,
   "id": "01464765",
   "metadata": {},
   "outputs": [],
   "source": [
    "# spam = 0\n",
    "# if spam == 10:\n",
    "#     print(\"eggs\")\n",
    "# if spam > 5:\n",
    "#    print(\"bacon\")\n",
    "# else:\n",
    "#     print('ham')\n",
    "#     print('span')\n",
    "#     print('spam')\n"
   ]
  },
  {
   "cell_type": "markdown",
   "id": "19a1b65b",
   "metadata": {},
   "source": [
    "### 8. Write code that prints Hello if 1 is stored in spam, prints Howdy if 2 is stored in spam, and prints Greetings! if anything else is stored in spam."
   ]
  },
  {
   "cell_type": "code",
   "execution_count": 2,
   "id": "e4a592e3",
   "metadata": {},
   "outputs": [
    {
     "name": "stdout",
     "output_type": "stream",
     "text": [
      "number 3\n",
      "Greetings!\n"
     ]
    }
   ],
   "source": [
    "spam = int(input(\"number \"))\n",
    "\n",
    "if spam == 1:\n",
    "    print('Hello')\n",
    "elif spam == 2:\n",
    "    print('Howdy')\n",
    "else:\n",
    "    print('Greetings!')"
   ]
  },
  {
   "cell_type": "markdown",
   "id": "b3658f6f",
   "metadata": {},
   "source": [
    "### 9.If your programme is stuck in an endless loop, what keys you’ll press?\n",
    "* CTRL + C"
   ]
  },
  {
   "cell_type": "markdown",
   "id": "7dd37a2f",
   "metadata": {},
   "source": [
    "### 10. How can you tell the difference between break and continue?\n",
    "1. The break statement takes care of terminating the loop in which it is used. If the break statement is used inside nested loops, the current loop is terminated, and the flow will continue with the code followed that comes after the loop.\n",
    "2. The continue statement skips the code that comes after it, and the control is passed back to the start for the next iteration."
   ]
  },
  {
   "cell_type": "markdown",
   "id": "3b8be3d4",
   "metadata": {},
   "source": [
    "### 11. In a for loop, what is the difference between range(10), range(0, 10), and range(0, 10, 1)?\n",
    "1. range(10) will start the loop by default from 0 to 10 (not including 10).\n",
    "2. range(0,10) will start the loop from 0 to 10.\n",
    "3. range(0,10,1) explicitly tells the loop to increase the variable by 1 on each itearation."
   ]
  },
  {
   "cell_type": "markdown",
   "id": "79c4f3e4",
   "metadata": {},
   "source": [
    "### 12. Write a short program that prints the numbers 1 to 10 using a for loop. Then write an equivalent program that prints the numbers 1 to 10 using a while loop."
   ]
  },
  {
   "cell_type": "code",
   "execution_count": 3,
   "id": "79383040",
   "metadata": {},
   "outputs": [
    {
     "name": "stdout",
     "output_type": "stream",
     "text": [
      "1\n",
      "2\n",
      "3\n",
      "4\n",
      "5\n",
      "6\n",
      "7\n",
      "8\n",
      "9\n",
      "10\n"
     ]
    }
   ],
   "source": [
    "for i in range(1,11):\n",
    "    print(i)"
   ]
  },
  {
   "cell_type": "code",
   "execution_count": 4,
   "id": "c3d374dd",
   "metadata": {},
   "outputs": [
    {
     "name": "stdout",
     "output_type": "stream",
     "text": [
      "1\n",
      "2\n",
      "3\n",
      "4\n",
      "5\n",
      "6\n",
      "7\n",
      "8\n",
      "9\n",
      "10\n"
     ]
    }
   ],
   "source": [
    "i = 1\n",
    "while i <=10:\n",
    "    print(i)\n",
    "    i += 1"
   ]
  },
  {
   "cell_type": "markdown",
   "id": "9f5f980b",
   "metadata": {},
   "source": [
    "### 13. If you had a function named bacon() inside a module named spam, how would you call it after importing spam?"
   ]
  },
  {
   "cell_type": "markdown",
   "id": "b8653c64",
   "metadata": {},
   "source": [
    "* This function can be called with spam.bacon()."
   ]
  }
 ],
 "metadata": {
  "kernelspec": {
   "display_name": "Python 3 (ipykernel)",
   "language": "python",
   "name": "python3"
  },
  "language_info": {
   "codemirror_mode": {
    "name": "ipython",
    "version": 3
   },
   "file_extension": ".py",
   "mimetype": "text/x-python",
   "name": "python",
   "nbconvert_exporter": "python",
   "pygments_lexer": "ipython3",
   "version": "3.8.10"
  }
 },
 "nbformat": 4,
 "nbformat_minor": 5
}
